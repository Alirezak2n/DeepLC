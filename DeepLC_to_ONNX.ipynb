{
 "cells": [
  {
   "cell_type": "code",
   "execution_count": 25,
   "metadata": {
    "collapsed": true,
    "ExecuteTime": {
     "end_time": "2025-03-14T10:45:42.266493100Z",
     "start_time": "2025-03-14T10:45:42.241990Z"
    }
   },
   "outputs": [],
   "source": [
    "import onnx\n",
    "\n",
    "from deeplc import DeepLC\n",
    "import tensorflow as tf\n",
    "import tf2onnx"
   ]
  },
  {
   "cell_type": "code",
   "execution_count": 11,
   "outputs": [
    {
     "data": {
      "text/plain": "['D:\\\\OneDrive - UGent\\\\Python Codes\\\\3Projects\\\\DeepLC_ONNX\\\\deeplc\\\\mods/full_hc_PXD005573_pub_1fd8363d9af9dcad3be7553c39396960.keras']"
     },
     "execution_count": 11,
     "metadata": {},
     "output_type": "execute_result"
    }
   ],
   "source": [
    "dlc = DeepLC()\n",
    "keras_model = dlc.model\n",
    "keras_model"
   ],
   "metadata": {
    "collapsed": false,
    "ExecuteTime": {
     "end_time": "2025-03-14T10:35:32.829867900Z",
     "start_time": "2025-03-14T10:35:32.826539700Z"
    }
   }
  },
  {
   "cell_type": "code",
   "execution_count": 14,
   "outputs": [
    {
     "data": {
      "text/plain": "[(None, 60, 6), (None, 30, 6), (None, 55), (None, 60, 20)]"
     },
     "execution_count": 14,
     "metadata": {},
     "output_type": "execute_result"
    }
   ],
   "source": [
    "model = tf.keras.models.load_model(keras_model[0])\n",
    "model.input_shape"
   ],
   "metadata": {
    "collapsed": false,
    "ExecuteTime": {
     "end_time": "2025-03-14T10:36:49.179563100Z",
     "start_time": "2025-03-14T10:36:49.062122300Z"
    }
   }
  },
  {
   "cell_type": "code",
   "execution_count": 23,
   "outputs": [
    {
     "name": "stderr",
     "output_type": "stream",
     "text": [
      "rewriter <function rewrite_constant_fold at 0x0000021162D77E20>: exception `np.cast` was removed in the NumPy 2.0 release. Use `np.asarray(arr, dtype=dtype)` instead.\n"
     ]
    }
   ],
   "source": [
    "onnx_model_path = \"deeplc.onnx\"\n",
    "spec = [\n",
    "    tf.TensorSpec([None, 60, 6], tf.float32, name=\"input_1\"),\n",
    "    tf.TensorSpec([None, 30, 6], tf.float32, name=\"input_2\"),\n",
    "    tf.TensorSpec([None, 55], tf.float32, name=\"input_3\"),\n",
    "    tf.TensorSpec([None, 60, 20], tf.float32, name=\"input_4\"),\n",
    "]\n",
    "\n",
    "onnx_model, _ = tf2onnx.convert.from_keras(model, input_signature=spec, opset=13, output_path=onnx_model_path)\n"
   ],
   "metadata": {
    "collapsed": false,
    "ExecuteTime": {
     "end_time": "2025-03-14T10:43:24.159590700Z",
     "start_time": "2025-03-14T10:43:23.225955100Z"
    }
   }
  },
  {
   "cell_type": "code",
   "execution_count": 32,
   "outputs": [],
   "source": [
    "from onnx2torch import convert\n",
    "import torch\n",
    "\n",
    "onnx_model = onnx.load(onnx_model_path)\n",
    "pytorch_onnx_model = convert(onnx_model)"
   ],
   "metadata": {
    "collapsed": false,
    "ExecuteTime": {
     "end_time": "2025-03-14T11:31:40.051988500Z",
     "start_time": "2025-03-14T11:31:39.996619100Z"
    }
   }
  },
  {
   "cell_type": "code",
   "execution_count": 39,
   "outputs": [
    {
     "name": "stdout",
     "output_type": "stream",
     "text": [
      "PyTorch Model Output: tensor([[-14.6315]], grad_fn=<AddBackward0>)\n"
     ]
    }
   ],
   "source": [
    "input_tensors = (\n",
    "    torch.randn(1, 60, 6),  # Input 1\n",
    "    torch.randn(1, 30, 6),  # Input 2\n",
    "    torch.randn(1, 55),     # Input 3\n",
    "    torch.randn(1, 60, 20)  # Input 4\n",
    ")\n",
    "\n",
    "# Run PyTorch model\n",
    "output = pytorch_onnx_model(*input_tensors)\n",
    "print(\"PyTorch Model Output:\", output)"
   ],
   "metadata": {
    "collapsed": false,
    "ExecuteTime": {
     "end_time": "2025-03-14T11:32:05.991976700Z",
     "start_time": "2025-03-14T11:32:05.984390100Z"
    }
   }
  },
  {
   "cell_type": "code",
   "execution_count": null,
   "outputs": [],
   "source": [],
   "metadata": {
    "collapsed": false
   }
  }
 ],
 "metadata": {
  "kernelspec": {
   "display_name": "Python 3",
   "language": "python",
   "name": "python3"
  },
  "language_info": {
   "codemirror_mode": {
    "name": "ipython",
    "version": 2
   },
   "file_extension": ".py",
   "mimetype": "text/x-python",
   "name": "python",
   "nbconvert_exporter": "python",
   "pygments_lexer": "ipython2",
   "version": "2.7.6"
  }
 },
 "nbformat": 4,
 "nbformat_minor": 0
}
